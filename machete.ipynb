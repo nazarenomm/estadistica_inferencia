{
 "cells": [
  {
   "cell_type": "markdown",
   "metadata": {},
   "source": [
    "### Encontrar un Prior Conjugado para Cualquier Distribución\n",
    "Para encontrar un prior conjugado para cualquier distribución, se deben seguir estos pasos:\n",
    "\n",
    "1. **Identificar la distribución de la verosimilitud**: Determinar la distribución de los datos condicional a los parámetros.\n",
    "\n",
    "2. **Formular el prior**: Proponer una forma funcional para el prior $P(\\theta)$\n",
    "\n",
    "3. **Calcular la posterior**: Utilizar el teorema de Bayes para calcular la distribución posterior $P(\\theta|y)$\n",
    "\n",
    "4. **Verificar la conjugación**: Si la posterior $P(\\theta|y)$ tiene la misma forma funcional que el prior $P(\\theta)$, entonces el prior es conjugado para la verosimilitud dada.\n",
    "\n",
    "Generalmente, esto implica seleccionar priors que sean miembros de la misma familia exponencial que la verosimilitud."
   ]
  }
 ],
 "metadata": {
  "language_info": {
   "name": "python"
  }
 },
 "nbformat": 4,
 "nbformat_minor": 2
}
