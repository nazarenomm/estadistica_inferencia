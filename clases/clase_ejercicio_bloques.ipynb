{
 "cells": [
  {
   "cell_type": "code",
   "execution_count": 2,
   "metadata": {},
   "outputs": [
    {
     "data": {
      "text/html": [
       "<div>\n",
       "<style scoped>\n",
       "    .dataframe tbody tr th:only-of-type {\n",
       "        vertical-align: middle;\n",
       "    }\n",
       "\n",
       "    .dataframe tbody tr th {\n",
       "        vertical-align: top;\n",
       "    }\n",
       "\n",
       "    .dataframe thead th {\n",
       "        text-align: right;\n",
       "    }\n",
       "</style>\n",
       "<table border=\"1\" class=\"dataframe\">\n",
       "  <thead>\n",
       "    <tr style=\"text-align: right;\">\n",
       "      <th></th>\n",
       "      <th>Child</th>\n",
       "      <th>Number</th>\n",
       "      <th>Time</th>\n",
       "      <th>Trial</th>\n",
       "      <th>Shape</th>\n",
       "      <th>Age</th>\n",
       "    </tr>\n",
       "  </thead>\n",
       "  <tbody>\n",
       "    <tr>\n",
       "      <th>0</th>\n",
       "      <td>A</td>\n",
       "      <td>11</td>\n",
       "      <td>30.0</td>\n",
       "      <td>1</td>\n",
       "      <td>Cube</td>\n",
       "      <td>4.67</td>\n",
       "    </tr>\n",
       "    <tr>\n",
       "      <th>1</th>\n",
       "      <td>B</td>\n",
       "      <td>9</td>\n",
       "      <td>19.0</td>\n",
       "      <td>1</td>\n",
       "      <td>Cube</td>\n",
       "      <td>5.00</td>\n",
       "    </tr>\n",
       "    <tr>\n",
       "      <th>2</th>\n",
       "      <td>C</td>\n",
       "      <td>8</td>\n",
       "      <td>18.6</td>\n",
       "      <td>1</td>\n",
       "      <td>Cube</td>\n",
       "      <td>4.42</td>\n",
       "    </tr>\n",
       "    <tr>\n",
       "      <th>3</th>\n",
       "      <td>D</td>\n",
       "      <td>9</td>\n",
       "      <td>23.0</td>\n",
       "      <td>1</td>\n",
       "      <td>Cube</td>\n",
       "      <td>4.33</td>\n",
       "    </tr>\n",
       "    <tr>\n",
       "      <th>4</th>\n",
       "      <td>E</td>\n",
       "      <td>10</td>\n",
       "      <td>29.0</td>\n",
       "      <td>1</td>\n",
       "      <td>Cube</td>\n",
       "      <td>4.33</td>\n",
       "    </tr>\n",
       "  </tbody>\n",
       "</table>\n",
       "</div>"
      ],
      "text/plain": [
       "  Child  Number  Time  Trial Shape   Age\n",
       "0     A      11  30.0      1  Cube  4.67\n",
       "1     B       9  19.0      1  Cube  5.00\n",
       "2     C       8  18.6      1  Cube  4.42\n",
       "3     D       9  23.0      1  Cube  4.33\n",
       "4     E      10  29.0      1  Cube  4.33"
      ]
     },
     "execution_count": 2,
     "metadata": {},
     "output_type": "execute_result"
    }
   ],
   "source": [
    "import pandas as pd\n",
    "import numpy as np\n",
    "\n",
    "df = pd.read_csv(\"../datasets/blocks.csv\", index_col = 0)\n",
    "\n",
    "df.head()"
   ]
  },
  {
   "cell_type": "markdown",
   "metadata": {},
   "source": [
    "### a) Hacer gráfico"
   ]
  },
  {
   "cell_type": "code",
   "execution_count": 3,
   "metadata": {},
   "outputs": [
    {
     "data": {
      "text/plain": [
       "[<matplotlib.lines.Line2D at 0x2282eaecf80>]"
      ]
     },
     "execution_count": 3,
     "metadata": {},
     "output_type": "execute_result"
    },
    {
     "data": {
      "image/png": "[encoded data removed]",
      "text/plain": [
       "<Figure size 640x480 with 1 Axes>"
      ]
     },
     "metadata": {},
     "output_type": "display_data"
    }
   ],
   "source": [
    "import matplotlib.pyplot as plt\n",
    "fig, ax = plt.subplots()\n",
    "ax.plot(df[\"Age\"], df[\"Number\"], \".\")"
   ]
  },
  {
   "cell_type": "markdown",
   "metadata": {},
   "source": [
    "Vamos a usar Poisson, porque es una cuenta (contamos bloques)"
   ]
  },
  {
   "cell_type": "markdown",
   "metadata": {},
   "source": [
    "### b) Ajustar el MLG (Poisson)"
   ]
  },
  {
   "cell_type": "code",
   "execution_count": 4,
   "metadata": {},
   "outputs": [],
   "source": [
    "# y = Poisson(mu)\n",
    "# log(mu) = beta0 + beta1 * x\n",
    "# mu = exp(betas x X)\n",
    "# y -> bloques\n",
    "# x -> edad"
   ]
  },
  {
   "cell_type": "markdown",
   "metadata": {},
   "source": [
    "Vamos a usar MLE para estimar los betas"
   ]
  },
  {
   "cell_type": "code",
   "execution_count": 5,
   "metadata": {},
   "outputs": [],
   "source": [
    "# maximizar L -> maximizar l -> maximizar:\n",
    "\n",
    "#sum[- exp(b_0  + b_1 * x_i)]"
   ]
  },
  {
   "cell_type": "code",
   "execution_count": 6,
   "metadata": {},
   "outputs": [],
   "source": [
    "intercept = np.ones_like(df[\"Age\"])\n",
    "X_intercept = np.column_stack([intercept, df[\"Age\"]])\n",
    "Y = df[\"Number\"]"
   ]
  },
  {
   "cell_type": "code",
   "execution_count": 7,
   "metadata": {},
   "outputs": [],
   "source": [
    "\n",
    "from scipy.optimize import minimize\n",
    "\n",
    "def neg_log_likelihood(beta, X, Y):\n",
    "    mu = np.exp(np.dot(X, beta))\n",
    "    return - np.sum(Y*np.log(mu) - mu)\n",
    "\n",
    "initial_beta = [0,0]\n",
    "result_poisson = minimize(neg_log_likelihood, initial_beta, args = (X_intercept, Y))"
   ]
  },
  {
   "cell_type": "code",
   "execution_count": 8,
   "metadata": {},
   "outputs": [],
   "source": [
    "beta_0, beta_1 = result_poisson.x"
   ]
  },
  {
   "cell_type": "code",
   "execution_count": 9,
   "metadata": {},
   "outputs": [
    {
     "data": {
      "text/plain": [
       "[<matplotlib.lines.Line2D at 0x228403054c0>]"
      ]
     },
     "execution_count": 9,
     "metadata": {},
     "output_type": "execute_result"
    },
    {
     "data": {
      "image/png": "[encoded data removed]",
      "text/plain": [
       "<Figure size 640x480 with 1 Axes>"
      ]
     },
     "metadata": {},
     "output_type": "display_data"
    }
   ],
   "source": [
    "fig, ax = plt.subplots()\n",
    "x = df[\"Age\"]\n",
    "ax.plot(x, Y, \".\", alpha = 0.5)\n",
    "\n",
    "X_estimacion = np.linspace(2.3, 5.2, 1000) # rango de edades\n",
    "\n",
    "mu_pred = np.exp(beta_0 + beta_1 * X_estimacion)\n",
    "ax.plot(X_estimacion, mu_pred)"
   ]
  },
  {
   "cell_type": "markdown",
   "metadata": {},
   "source": [
    "### c) Estimar el error estandar de los betas"
   ]
  },
  {
   "cell_type": "markdown",
   "metadata": {},
   "source": [
    "Tenemos que encontrar la matriz de informacion de Fisher"
   ]
  },
  {
   "cell_type": "code",
   "execution_count": 10,
   "metadata": {},
   "outputs": [],
   "source": [
    "phi = 1 #por ser Poisson, entonces ni lo pongo en la ecuacion\n",
    "\n",
    "mu = np.exp(X_intercept @ result_poisson.x) # no son los estimados, son los observados\n",
    "W = np.diag(mu)\n",
    "\n",
    "Fisher_info_matrix = X_intercept.T @ W @ X_intercept"
   ]
  },
  {
   "cell_type": "code",
   "execution_count": 11,
   "metadata": {},
   "outputs": [
    {
     "data": {
      "text/plain": [
       "array([[ 0.04944116, -0.01169638],\n",
       "       [-0.01169638,  0.0028516 ]])"
      ]
     },
     "execution_count": 11,
     "metadata": {},
     "output_type": "execute_result"
    }
   ],
   "source": [
    "cov_matrix = np.linalg.inv(Fisher_info_matrix)\n",
    "cov_matrix"
   ]
  },
  {
   "cell_type": "code",
   "execution_count": 12,
   "metadata": {},
   "outputs": [],
   "source": [
    "sem = np.sqrt(cov_matrix[1][1])"
   ]
  },
  {
   "cell_type": "code",
   "execution_count": 13,
   "metadata": {},
   "outputs": [
    {
     "data": {
      "text/plain": [
       "<matplotlib.collections.PolyCollection at 0x22840345c10>"
      ]
     },
     "execution_count": 13,
     "metadata": {},
     "output_type": "execute_result"
    },
    {
     "data": {
      "image/png": "[encoded data removed]",
      "text/plain": [
       "<Figure size 640x480 with 1 Axes>"
      ]
     },
     "metadata": {},
     "output_type": "display_data"
    }
   ],
   "source": [
    "fig, ax = plt.subplots()\n",
    "x = df[\"Age\"]\n",
    "ax.plot(x, Y, \".\", alpha = 0.5)\n",
    "\n",
    "X_estimacion = np.linspace(2.3, 5.2, 1000) # rango de edades\n",
    "\n",
    "mu_pred = np.exp(beta_0 + beta_1 * X_estimacion)\n",
    "\n",
    "mu_alto = np.exp(beta_0 + (beta_1 + sem * 1.96) * X_estimacion) #de donde sale el 1.96?\n",
    "mu_bajo = np.exp(beta_0 + (beta_1 - sem * 1.96) * X_estimacion)\n",
    "ax.plot(X_estimacion, mu_pred)\n",
    "ax.fill_between(X_estimacion, mu_bajo, mu_alto, alpha = 0.2)"
   ]
  },
  {
   "cell_type": "code",
   "execution_count": 14,
   "metadata": {},
   "outputs": [
    {
     "data": {
      "text/plain": [
       "0.1415096089907883"
      ]
     },
     "execution_count": 14,
     "metadata": {},
     "output_type": "execute_result"
    }
   ],
   "source": [
    "beta_1"
   ]
  },
  {
   "cell_type": "code",
   "execution_count": 15,
   "metadata": {},
   "outputs": [
    {
     "data": {
      "text/plain": [
       "0.0534004032535844"
      ]
     },
     "execution_count": 15,
     "metadata": {},
     "output_type": "execute_result"
    }
   ],
   "source": [
    "sem"
   ]
  },
  {
   "cell_type": "markdown",
   "metadata": {},
   "source": [
    "### d) no lo vamos a hacer, es un tema que no vimos"
   ]
  }
 ],
 "metadata": {
  "kernelspec": {
   "display_name": "Python 3",
   "language": "python",
   "name": "python3"
  },
  "language_info": {
   "codemirror_mode": {
    "name": "ipython",
    "version": 3
   },
   "file_extension": ".py",
   "mimetype": "text/x-python",
   "name": "python",
   "nbconvert_exporter": "python",
   "pygments_lexer": "ipython3",
   "version": "3.12.1"
  }
 },
 "nbformat": 4,
 "nbformat_minor": 2
}
