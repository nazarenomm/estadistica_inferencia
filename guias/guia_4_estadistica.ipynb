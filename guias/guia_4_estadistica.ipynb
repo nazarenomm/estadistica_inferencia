{
 "cells": [
  {
   "cell_type": "markdown",
   "metadata": {},
   "source": [
    "# Bootstrap"
   ]
  },
  {
   "cell_type": "markdown",
   "metadata": {},
   "source": [
    "## 1. \n",
    "\n",
    "Generar 30 samples de una distribución Bernoulli de parámetro 𝑝 = 0.3."
   ]
  },
  {
   "cell_type": "code",
   "execution_count": 42,
   "metadata": {},
   "outputs": [],
   "source": [
    "import numpy as np\n",
    "import matplotlib.pyplot as plt\n",
    "\n",
    "p = 0.3\n",
    "\n",
    "samples = np.random.choice([0, 1], size=30, p=[1-p, p])"
   ]
  },
  {
   "cell_type": "markdown",
   "metadata": {},
   "source": [
    "### a) \n",
    "Encontrar el estimador plug-in del desvío estándar 𝜎 de la distribución."
   ]
  },
  {
   "cell_type": "code",
   "execution_count": 43,
   "metadata": {},
   "outputs": [],
   "source": [
    "# el plug-in estimator es simplemente suponer que la distribucion observada es la real\n",
    "\n",
    "# entonces la varianza poblacional = varianza muestral\n",
    "\n",
    "# varianza muestral de una bernoulli\n",
    "\n",
    "sigma_plug_in = np.std(samples) #np.sqrt(p*(1-p))"
   ]
  },
  {
   "cell_type": "code",
   "execution_count": 44,
   "metadata": {},
   "outputs": [
    {
     "data": {
      "text/plain": [
       "0.3726779962499649"
      ]
     },
     "execution_count": 44,
     "metadata": {},
     "output_type": "execute_result"
    }
   ],
   "source": [
    "sigma_plug_in"
   ]
  },
  {
   "cell_type": "markdown",
   "metadata": {},
   "source": [
    "### b) \n",
    "Estimar su error estándar usando bootstrap"
   ]
  },
  {
   "cell_type": "code",
   "execution_count": 46,
   "metadata": {},
   "outputs": [
    {
     "data": {
      "text/plain": [
       "(array([  2.,   0.,   0.,  21.,   0.,  82., 318., 192., 273., 112.]),\n",
       " array([0.        , 0.04898979, 0.09797959, 0.14696938, 0.19595918,\n",
       "        0.24494897, 0.29393877, 0.34292856, 0.39191836, 0.44090815,\n",
       "        0.48989795]),\n",
       " <BarContainer object of 10 artists>)"
      ]
     },
     "execution_count": 46,
     "metadata": {},
     "output_type": "execute_result"
    },
    {
     "data": {
      "image/png": "[encoded data removed]",
      "text/plain": [
       "<Figure size 640x480 with 1 Axes>"
      ]
     },
     "metadata": {},
     "output_type": "display_data"
    }
   ],
   "source": [
    "N = 1000\n",
    "bootstrap_stds = np.zeros(N)\n",
    "for i in range(N):\n",
    "    draws = np.random.choice(samples, size= len(samples), replace=True)\n",
    "    bootstrap_stds[i] = np.std(draws)\n",
    "plt.hist(bootstrap_stds)"
   ]
  },
  {
   "cell_type": "code",
   "execution_count": 62,
   "metadata": {},
   "outputs": [
    {
     "name": "stdout",
     "output_type": "stream",
     "text": [
      "error estandar: 0.06509424356226115\n"
     ]
    }
   ],
   "source": [
    "se_boot = np.std(bootstrap_stds)\n",
    "\n",
    "print(f\"error estandar: {se_boot}\")"
   ]
  },
  {
   "cell_type": "markdown",
   "metadata": {},
   "source": [
    "### c) \n",
    "Encontrar un intervalo de confianza de nivel 0.95 usando los métodos normal, _percentile\n",
    "bootstrap_, _basic bootstrap_ y _BCa_."
   ]
  },
  {
   "attachments": {
    "image.png": {
     "image/png": "[encoded data removed]"
    }
   },
   "cell_type": "markdown",
   "metadata": {},
   "source": [
    "Usando _normal_:\n",
    "\n",
    "![image.png](attachment:image.png)\n",
    "\n",
    "si la distribución no se asemeja a una normal puede ser poco preciso"
   ]
  },
  {
   "cell_type": "code",
   "execution_count": 63,
   "metadata": {},
   "outputs": [
    {
     "name": "stdout",
     "output_type": "stream",
     "text": [
      "intervalo de confianza: (0.24509562326705478, 0.500260369232875)\n"
     ]
    }
   ],
   "source": [
    "from scipy.stats import norm\n",
    "\n",
    "alpha = 0.05\n",
    "\n",
    "z_alpha_2 = norm.ppf(1 - alpha/2)\n",
    "lower_bound = sigma_plug_in - z_alpha_2 * se_boot\n",
    "upper_bound = sigma_plug_in + z_alpha_2 * se_boot\n",
    "\n",
    "print(f\"intervalo de confianza: {lower_bound, upper_bound}\")\n"
   ]
  },
  {
   "cell_type": "markdown",
   "metadata": {},
   "source": [
    "Usando _percentile bootstrap_"
   ]
  },
  {
   "cell_type": "code",
   "execution_count": 60,
   "metadata": {},
   "outputs": [
    {
     "name": "stdout",
     "output_type": "stream",
     "text": [
      "Intervalo de confianza: (0.24944382578492943, 0.45825756949558394)\n"
     ]
    }
   ],
   "source": [
    "lower_bound = np.percentile(bootstrap_stds, alpha/2 * 100)\n",
    "upper_bound = np.percentile(bootstrap_stds, 100 - alpha/2 * 100)\n",
    "\n",
    "print(f\"Intervalo de confianza: {lower_bound, upper_bound}\")\n"
   ]
  },
  {
   "cell_type": "markdown",
   "metadata": {},
   "source": [
    "## 2.\n",
    "Considerar los datasets de los precios anuales de las acciones de The Coca-Cola Company y las búsquedas en Google de “my cat scratched me”"
   ]
  },
  {
   "cell_type": "code",
   "execution_count": 3,
   "metadata": {},
   "outputs": [],
   "source": [
    "array_1 = np.array([8,7.91667,19.8333,18.5833,29.0833,30.3333,35.4167,43.6667,37.25,45.75,47.1667,48.5,67.3333,79.3333,74.6667,85.6667,])\n",
    "array_2 = np.array([30.73,22.7,28.58,32.94,35.08,36.99,41.12,42.26,42.34,41.5,45.91,46.94,55.32,54.27,58.82,63.56,])\n",
    "array_1_name = \"Google searches for 'my cat scratched me'\"\n",
    "array_2_name = \"The Coca-Cola Company's stock price (KO)\""
   ]
  },
  {
   "cell_type": "markdown",
   "metadata": {},
   "source": [
    "### a)\n",
    "Encontrar el estimador plug-in del coeficiente de correlación entre ambos conjuntos de datos"
   ]
  },
  {
   "cell_type": "markdown",
   "metadata": {},
   "source": [
    "Uso el coeficiente de correlacion de Pearson\n",
    "\n",
    "$r_{xy} = \\frac{\\sum_{i=1}^{n}(x_i - \\bar{x})(y_i - \\bar{y})}{\\sqrt{\\sum_{i=1}^{n}(x_i - \\bar{x})^2} \\sqrt{\\sum_{i=1}^{n}(y_i - \\bar{y})^2}}$"
   ]
  },
  {
   "cell_type": "code",
   "execution_count": 8,
   "metadata": {},
   "outputs": [
    {
     "name": "stdout",
     "output_type": "stream",
     "text": [
      "0.9739712296818737\n"
     ]
    }
   ],
   "source": [
    "mean_array_1 = np.mean(array_1)\n",
    "mean_array_2 = np.mean(array_2)\n",
    "covariance = np.mean((array_1 - mean_array_1) * (array_2 - mean_array_2))\n",
    "std_array_1 = np.std(array_1)\n",
    "std_array_2 = np.std(array_2)\n",
    "correlation_coef = covariance / (std_array_1 * std_array_2)\n",
    "\n",
    "print(correlation_coef)"
   ]
  },
  {
   "cell_type": "markdown",
   "metadata": {},
   "source": [
    "Es lo mismo que hacer:"
   ]
  },
  {
   "cell_type": "code",
   "execution_count": 68,
   "metadata": {},
   "outputs": [
    {
     "data": {
      "text/plain": [
       "0.9739712296818737"
      ]
     },
     "execution_count": 68,
     "metadata": {},
     "output_type": "execute_result"
    }
   ],
   "source": [
    "from scipy import stats\n",
    "\n",
    "stats.pearsonr(array_1, array_2)[0]"
   ]
  },
  {
   "cell_type": "code",
   "execution_count": 38,
   "metadata": {},
   "outputs": [
    {
     "data": {
      "text/plain": [
       "0.9739712296818734"
      ]
     },
     "execution_count": 38,
     "metadata": {},
     "output_type": "execute_result"
    }
   ],
   "source": [
    "np.corrcoef(array_1, array_2)[1,0]"
   ]
  },
  {
   "cell_type": "markdown",
   "metadata": {},
   "source": [
    "### b) \n",
    "Estimar su error estándar usando bootstrap."
   ]
  },
  {
   "cell_type": "code",
   "execution_count": 64,
   "metadata": {},
   "outputs": [
    {
     "name": "stdout",
     "output_type": "stream",
     "text": [
      "error estandar: 0.2615554204068617\n"
     ]
    }
   ],
   "source": [
    "N = 1000\n",
    "bootstrap_r = np.zeros(N)\n",
    "\n",
    "for i in range(N):\n",
    "    draws_1 = np.random.choice(array_1, size= len(array_1), replace=True)\n",
    "    draws_2 = np.random.choice(array_2, size= len(array_2), replace=True)\n",
    "    bootstrap_r[i] = stats.pearsonr(draws_1, draws_2)[0]\n",
    "\n",
    "se_r_estimado = np.std(bootstrap_r)\n",
    "\n",
    "print(f\"error estandar: {se_r_estimado}\")"
   ]
  },
  {
   "cell_type": "code",
   "execution_count": 40,
   "metadata": {},
   "outputs": [
    {
     "data": {
      "text/plain": [
       "(array([ 17.,  54., 116., 188., 216., 180., 131.,  69.,  23.,   6.]),\n",
       " array([-0.6834949 , -0.53554795, -0.38760099, -0.23965403, -0.09170707,\n",
       "         0.05623988,  0.20418684,  0.3521338 ,  0.50008076,  0.64802772,\n",
       "         0.79597467]),\n",
       " <BarContainer object of 10 artists>)"
      ]
     },
     "execution_count": 40,
     "metadata": {},
     "output_type": "execute_result"
    },
    {
     "data": {
      "image/png": "[encoded data removed]",
      "text/plain": [
       "<Figure size 640x480 with 1 Axes>"
      ]
     },
     "metadata": {},
     "output_type": "display_data"
    }
   ],
   "source": [
    "plt.hist(bootstrap_r)"
   ]
  },
  {
   "cell_type": "markdown",
   "metadata": {},
   "source": [
    "### c) \n",
    "Encontrar un intervalo de confianza de nivel 0.95 usando los métodos normal, _percentile\n",
    "bootstrap_, _basic bootstrap_ y _BCa_."
   ]
  },
  {
   "cell_type": "code",
   "execution_count": 65,
   "metadata": {},
   "outputs": [
    {
     "name": "stdout",
     "output_type": "stream",
     "text": [
      "Intervalo de confianza: (-0.5182995651515984, 0.5039133731679037)\n"
     ]
    }
   ],
   "source": [
    "lower_bound = np.percentile(bootstrap_r, alpha/2 * 100)\n",
    "upper_bound = np.percentile(bootstrap_r, 100 - alpha/2 * 100)\n",
    "\n",
    "print(f\"Intervalo de confianza: {lower_bound, upper_bound}\")"
   ]
  },
  {
   "cell_type": "markdown",
   "metadata": {},
   "source": [
    "????? no se que onda este punto"
   ]
  },
  {
   "cell_type": "markdown",
   "metadata": {},
   "source": [
    "## 3.\n",
    "Sean $X_1,.....,X_n$ variables aleatorias Normales($\\mu$, 1). Sea $\\theta = e^\\mu$ y sea $\\theta^* = e^{\\bar{X}}$. Crear un conjunto de datos utilizando $\\mu$ = 5 que tenga $n$ = 100 observaciones."
   ]
  },
  {
   "cell_type": "code",
   "execution_count": 99,
   "metadata": {},
   "outputs": [],
   "source": [
    "n = 100\n",
    "X = np.random.normal(5, 1, n)\n",
    "\n",
    "theta = np.exp(5)\n",
    "\n",
    "theta_star = np.exp(X.mean()) # plugin estimate de theta (?"
   ]
  },
  {
   "cell_type": "code",
   "execution_count": 100,
   "metadata": {},
   "outputs": [
    {
     "data": {
      "text/plain": [
       "(151.5007064820516, 148.4131591025766)"
      ]
     },
     "execution_count": 100,
     "metadata": {},
     "output_type": "execute_result"
    }
   ],
   "source": [
    "theta_star, theta"
   ]
  },
  {
   "cell_type": "code",
   "execution_count": 101,
   "metadata": {},
   "outputs": [
    {
     "data": {
      "text/plain": [
       "15.721330470668859"
      ]
     },
     "execution_count": 101,
     "metadata": {},
     "output_type": "execute_result"
    }
   ],
   "source": [
    "N = 1000\n",
    "bootstrap_theta = np.zeros(N)\n",
    "\n",
    "for i in range(N):\n",
    "    draws = np.random.choice(X, size= len(X), replace=True)\n",
    "    bootstrap_theta[i] = np.exp(np.mean(draws))\n",
    "se_boot = np.std(bootstrap_theta)\n",
    "se_boot"
   ]
  },
  {
   "cell_type": "code",
   "execution_count": 102,
   "metadata": {},
   "outputs": [
    {
     "data": {
      "text/plain": [
       "(array([  6.,  26., 138., 219., 273., 178., 102.,  37.,  16.,   5.]),\n",
       " array([106.14433774, 116.3933438 , 126.64234985, 136.89135591,\n",
       "        147.14036197, 157.38936803, 167.63837409, 177.88738015,\n",
       "        188.1363862 , 198.38539226, 208.63439832]),\n",
       " <BarContainer object of 10 artists>)"
      ]
     },
     "execution_count": 102,
     "metadata": {},
     "output_type": "execute_result"
    },
    {
     "data": {
      "image/png": "[encoded data removed]",
      "text/plain": [
       "<Figure size 640x480 with 1 Axes>"
      ]
     },
     "metadata": {},
     "output_type": "display_data"
    }
   ],
   "source": [
    "plt.hist(bootstrap_theta)"
   ]
  },
  {
   "cell_type": "code",
   "execution_count": 103,
   "metadata": {},
   "outputs": [
    {
     "data": {
      "text/plain": [
       "152.08571164856758"
      ]
     },
     "execution_count": 103,
     "metadata": {},
     "output_type": "execute_result"
    }
   ],
   "source": [
    "np.mean(bootstrap_theta)"
   ]
  },
  {
   "cell_type": "code",
   "execution_count": 104,
   "metadata": {},
   "outputs": [
    {
     "name": "stdout",
     "output_type": "stream",
     "text": [
      "Intervalo de confianza: (125.33527823952814, 184.8644059392734)\n"
     ]
    }
   ],
   "source": [
    "alpha = 0.05\n",
    "\n",
    "lower_bound = np.percentile(bootstrap_theta, alpha/2 * 100)\n",
    "upper_bound = np.percentile(bootstrap_theta, 100 - alpha/2 * 100)\n",
    "\n",
    "print(f\"Intervalo de confianza: {lower_bound, upper_bound}\")"
   ]
  },
  {
   "cell_type": "markdown",
   "metadata": {},
   "source": [
    "# Test de Hipótesis"
   ]
  },
  {
   "cell_type": "markdown",
   "metadata": {},
   "source": [
    "### 4.\n",
    " En 1000 tiradas de moneda aparecen 560 caras y 440 cecas. ¿Es razonable suponer que la moneda es justa, es decir que la probabilidad de cara y de ceca son iguales?"
   ]
  },
  {
   "cell_type": "markdown",
   "metadata": {},
   "source": [
    "$X \\sim Bin(1000, 0.5)$\n",
    "\n",
    "$H_0 : p = 0.5$  \n",
    "$H_1 : p \\neq 0.5$"
   ]
  },
  {
   "cell_type": "code",
   "execution_count": 41,
   "metadata": {},
   "outputs": [
    {
     "name": "stdout",
     "output_type": "stream",
     "text": [
      "Región de NO rechazo: (-1.959963984540054, 1.959963984540054)\n",
      "Z_observado: 3.7947331922020586\n"
     ]
    }
   ],
   "source": [
    "from scipy.stats import norm\n",
    "\n",
    "n = 1000\n",
    "p = 0.5  # moneda justa\n",
    "\n",
    "p_obs = 560/n\n",
    "\n",
    "Z = (p_obs - p) / (np.sqrt((p*(1-p))/n)) # estadistico Z ~ N(0,1) (aprox)\n",
    "\n",
    "alpha = 0.05\n",
    "\n",
    "Z_critico = norm.ppf(1 - alpha / 2) # dos colas, si  hubiera una cola sería alpha\n",
    "\n",
    "print(f\"Región de NO rechazo: {-Z_critico, Z_critico}\")\n",
    "\n",
    "print(f\"Z_observado: {Z}\")\n",
    "\n"
   ]
  },
  {
   "cell_type": "markdown",
   "metadata": {},
   "source": [
    "$Z_{obs}$ está en la Región de rechazo, entonces la moneda no está equilibrada"
   ]
  },
  {
   "attachments": {
    "image.png": {
     "image/png": "[encoded data removed]"
    }
   },
   "cell_type": "markdown",
   "metadata": {},
   "source": [
    "### 5.\n",
    "Se desea determinar si un dado de seis caras está cargado o no. Para ello se arroja el dado\n",
    "1000 veces obteniéndose los siguientes resultados:\n",
    "![image.png](attachment:image.png)  \n",
    "Estamos interesados en testear las hipótesis $𝐻_0$: El dado es equilibrado vs. $H_1$: El dado está cargado.  \n",
    "Para ello consideramos distintos tests:"
   ]
  },
  {
   "cell_type": "markdown",
   "metadata": {},
   "source": [
    "#### a)\n",
    "Sea 𝑋 = cantidad de veces que el resultado del dado es par. Plantear las hipótesis y determinar\n",
    "la región de rechazo para un test de nivel aproximado 𝛼 = 0.05 basado en 𝑋. Para el conjunto\n",
    "de datos obtenido, ¿cuál es el valor 𝑝 aproximado?, ¿cuál es la decisión?\n"
   ]
  },
  {
   "cell_type": "markdown",
   "metadata": {},
   "source": [
    "$X \\sim Bin(1000, 0.5)$"
   ]
  },
  {
   "cell_type": "markdown",
   "metadata": {},
   "source": [
    "\n",
    "$H_0 : p = 0.5$  \n",
    "$H_1 : p \\neq 0.5$"
   ]
  },
  {
   "cell_type": "code",
   "execution_count": 10,
   "metadata": {},
   "outputs": [
    {
     "name": "stdout",
     "output_type": "stream",
     "text": [
      "valor p aproximado: 0.5\n",
      "valor del estadistico de prueba para un test de proporción: 0.0\n",
      "Región de NO rechazo: (-1.959963984540054, 1.959963984540054)\n"
     ]
    }
   ],
   "source": [
    "x = 180 + 170 + 150 #cantidad de vaces que salio par\n",
    "n = 1000\n",
    "alpha = 0.05\n",
    "p = 0.5 # dado justo\n",
    "\n",
    "p_obs = x/n\n",
    "\n",
    "print(f\"valor p aproximado: {p_obs}\")\n",
    "\n",
    "Z = (p_obs - p) / np.sqrt(p*(1-p)/n)\n",
    "\n",
    "print(f\"valor del estadistico de prueba para un test de proporción: {Z}\")\n",
    "\n",
    "Z_critico = norm.ppf(1 - alpha / 2)\n",
    "\n",
    "print(f\"Región de NO rechazo: {-Z_critico, Z_critico}\")"
   ]
  },
  {
   "cell_type": "markdown",
   "metadata": {},
   "source": [
    "$Z_{obs}$ no está en la Región de Rechazo, por lo tanto no rechazo la hipotesis inicial.  \n",
    "No hacía falta hacer tanto, simplemente con ver que $p_{obs} = p$ alcanzaba para suponerlo"
   ]
  },
  {
   "cell_type": "markdown",
   "metadata": {},
   "source": [
    "### b) \n",
    "Sea 𝑌 = cantidad de veces que el resultado del dado es menor o igual que 3. Plantear claramente las hipótesis y determinar la región de rechazo para un test de nivel aproximado\n",
    "𝛼 = 0.05 basado en 𝑌.  \n",
    "Para el conjunto de datos obtenido, ¿cuál es el valor 𝑝 aproximado?,\n",
    "¿cuál es la decisión?\n"
   ]
  },
  {
   "cell_type": "markdown",
   "metadata": {},
   "source": [
    "$Y \\sim Bin(1000, 0.5)$"
   ]
  },
  {
   "cell_type": "markdown",
   "metadata": {},
   "source": [
    "\n",
    "$H_0 : p = 0.5$  \n",
    "$H_1 : p \\neq 0.5$"
   ]
  },
  {
   "cell_type": "code",
   "execution_count": 11,
   "metadata": {},
   "outputs": [
    {
     "name": "stdout",
     "output_type": "stream",
     "text": [
      "valor p aproximado: 0.49\n",
      "valor del estadistico de prueba para un test de proporción: -0.6324555320336764\n",
      "Región de NO rechazo: (-1.959963984540054, 1.959963984540054)\n"
     ]
    }
   ],
   "source": [
    "y = 160 + 180 + 150\n",
    "\n",
    "p_obs = y/n\n",
    "\n",
    "print(f\"valor p aproximado: {p_obs}\")\n",
    "\n",
    "Z = (p_obs - p) / np.sqrt(p*(1-p)/n)\n",
    "\n",
    "print(f\"valor del estadistico de prueba para un test de proporción: {Z}\")\n",
    "\n",
    "Z_critico = norm.ppf(1 - alpha / 2)\n",
    "\n",
    "print(f\"Región de NO rechazo: {-Z_critico, Z_critico}\")"
   ]
  },
  {
   "cell_type": "markdown",
   "metadata": {},
   "source": [
    "$Z_{obs}$ no está en la Región de Rechazo, por lo tanto no rechazo la hipotesis inicial."
   ]
  },
  {
   "cell_type": "markdown",
   "metadata": {},
   "source": [
    "### 6.\n",
    "Sea $X$ una variable aleatoria normal de varianza conocida $\\sigma^2$ y esperanza desconocida $\\mu$. Se realiza un test que decide si rechazar o preservar la hipótesis $H_0 : \\mu ≤ 0$ a partir de $n = 100$ muestras. Para cierto $c > 0$, el test dice “Dadas muestras $x_1,.....,x_n$, rechazar $H_0$ si $\\bar{x}  > c$”."
   ]
  },
  {
   "cell_type": "markdown",
   "metadata": {},
   "source": [
    "#### a)\n",
    "Encontrar el valor de $c$ para que el test tenga un nivel de 5%"
   ]
  }
 ],
 "metadata": {
  "kernelspec": {
   "display_name": "Python 3",
   "language": "python",
   "name": "python3"
  },
  "language_info": {
   "codemirror_mode": {
    "name": "ipython",
    "version": 3
   },
   "file_extension": ".py",
   "mimetype": "text/x-python",
   "name": "python",
   "nbconvert_exporter": "python",
   "pygments_lexer": "ipython3",
   "version": "3.12.1"
  }
 },
 "nbformat": 4,
 "nbformat_minor": 2
}
