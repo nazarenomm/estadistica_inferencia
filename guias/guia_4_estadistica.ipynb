{
 "cells": [
  {
   "cell_type": "markdown",
   "metadata": {},
   "source": [
    "# Bootstrap"
   ]
  },
  {
   "cell_type": "markdown",
   "metadata": {},
   "source": [
    "## 1. \n",
    "\n",
    "Generar 30 samples de una distribución Bernoulli de parámetro 𝑝 = 0.3."
   ]
  },
  {
   "cell_type": "code",
   "execution_count": 2,
   "metadata": {},
   "outputs": [
    {
     "data": {
      "text/plain": [
       "array([0, 0, 1, 1, 0, 1, 0, 1, 0, 0, 0, 0, 0, 1, 0, 0, 1, 1, 0, 1, 0, 0,\n",
       "       0, 1, 0, 1, 0, 0, 0, 0])"
      ]
     },
     "execution_count": 2,
     "metadata": {},
     "output_type": "execute_result"
    }
   ],
   "source": [
    "import numpy as np\n",
    "import matplotlib.pyplot as plt\n",
    "\n",
    "p = 0.3\n",
    "\n",
    "samples = np.random.choice([0, 1], size=30, p=[1-p, p])"
   ]
  },
  {
   "cell_type": "markdown",
   "metadata": {},
   "source": [
    "#### a) \n",
    "Encontrar el estimador plug-in del desvío estándar 𝜎 de la distribución."
   ]
  },
  {
   "cell_type": "code",
   "execution_count": 34,
   "metadata": {},
   "outputs": [],
   "source": [
    "# el plug-in estimator es simplemente suponer que la distribucion observada es la real\n",
    "\n",
    "# entonces la varianza poblacional = varianza muestral\n",
    "\n",
    "# varianza muestral de una bernoulli\n",
    "\n",
    "sigma_plug_in = np.std(samples) #np.sqrt(p*(1-p))"
   ]
  },
  {
   "cell_type": "code",
   "execution_count": 35,
   "metadata": {},
   "outputs": [
    {
     "data": {
      "text/plain": [
       "0.4714045207910316"
      ]
     },
     "execution_count": 35,
     "metadata": {},
     "output_type": "execute_result"
    }
   ],
   "source": [
    "sigma_plug_in"
   ]
  },
  {
   "cell_type": "markdown",
   "metadata": {},
   "source": [
    "### b) \n",
    "Estimar su error estándar usando bootstrap"
   ]
  },
  {
   "cell_type": "markdown",
   "metadata": {},
   "source": [
    "Función que hice porque estaba al pedo:"
   ]
  },
  {
   "cell_type": "code",
   "execution_count": 52,
   "metadata": {},
   "outputs": [],
   "source": [
    "def bootstrap(samples, N, funcion, histograma = False):\n",
    "    \"\"\"\n",
    "    Realiza el método de bootstrap para estimar el estadístico deseado a partir de una muestra.\n",
    "    Imprime el histograma si histograma == True.\n",
    "\n",
    "    Parámetros:\n",
    "    samples (numpy.ndarray): La muestra de la que se calculará el estadístico mediante bootstrap.\n",
    "    N (int): El número de iteraciones de bootstrap a realizar.\n",
    "    funcion (función de NumPy): La función que calcula el estadístico de interés.\n",
    "    histrograma(bool): Booleano que decide si se imprime el histrograma de distribucion de los valores del estadistico\n",
    "\n",
    "    Retorna:\n",
    "    tuple: Un tuple conteniendo el valor estimado del estadístico y su error estándar.\n",
    "    \"\"\"\n",
    "    import numpy as np\n",
    "    import matplotlib.pyplot as plt\n",
    "    bootstrap_dataset = np.zeros(N)\n",
    "    for i in range(N):\n",
    "        draws = np.random.choice(samples, size= len(samples), replace = True)\n",
    "        bootstrap_dataset[i] = funcion(draws)\n",
    "    if histograma:\n",
    "        plt.hist(bootstrap_dataset)\n",
    "    return np.mean(bootstrap_dataset), np.std(bootstrap_dataset)"
   ]
  },
  {
   "cell_type": "code",
   "execution_count": 54,
   "metadata": {},
   "outputs": [
    {
     "data": {
      "text/plain": [
       "(array([  3.,  12.,   0.,  25.,   0.,  51.,  73., 267., 166., 403.]),\n",
       " array([0.3 , 0.32, 0.34, 0.36, 0.38, 0.4 , 0.42, 0.44, 0.46, 0.48, 0.5 ]),\n",
       " <BarContainer object of 10 artists>)"
      ]
     },
     "execution_count": 54,
     "metadata": {},
     "output_type": "execute_result"
    },
    {
     "data": {
      "image/png": "[encoded data removed]",
      "text/plain": [
       "<Figure size 640x480 with 1 Axes>"
      ]
     },
     "metadata": {},
     "output_type": "display_data"
    }
   ],
   "source": [
    "N = 1000\n",
    "bootstrap_stds = np.zeros(N)\n",
    "for i in range(N):\n",
    "    draws = np.random.choice(samples, size= len(samples), replace=True)\n",
    "    bootstrap_stds[i] = np.std(draws)\n",
    "plt.hist(bootstrap_stds)"
   ]
  },
  {
   "cell_type": "code",
   "execution_count": 55,
   "metadata": {},
   "outputs": [
    {
     "name": "stdout",
     "output_type": "stream",
     "text": [
      "sigma estimado usando bootstrap: 0.46195837775071585\n",
      "error estandar: 0.03425414011204697\n"
     ]
    }
   ],
   "source": [
    "sigma_estimado = np.mean(bootstrap_stds)\n",
    "se_sigma_estimado = np.std(bootstrap_stds)\n",
    "\n",
    "print(f\"sigma estimado usando bootstrap: {sigma_estimado}\")\n",
    "print(f\"error estandar: {se_sigma_estimado}\")"
   ]
  },
  {
   "cell_type": "markdown",
   "metadata": {},
   "source": [
    "### c) \n",
    "Encontrar un intervalo de confianza de nivel 0.95 usando los métodos normal, _percentile\n",
    "bootstrap_, _basic bootstrap_ y _BCa_."
   ]
  },
  {
   "cell_type": "markdown",
   "metadata": {},
   "source": [
    "Creo que esto es _percentile bootstrap_"
   ]
  },
  {
   "cell_type": "code",
   "execution_count": 59,
   "metadata": {},
   "outputs": [
    {
     "name": "stdout",
     "output_type": "stream",
     "text": [
      "Intervalo de confianza del 95% para el desvío estándar estimado: (0.37267799624996495, 0.5)\n"
     ]
    }
   ],
   "source": [
    "lower_bound = np.percentile(bootstrap_stds, 2.5)\n",
    "upper_bound = np.percentile(bootstrap_stds, 97.5)\n",
    "# 97.5 - 2.5 = 95\n",
    "# el intervalo de confianza del 95% será aquel que cubra al 95% de los desvios estandar del histograma anterior\n",
    "\n",
    "print(f\"Intervalo de confianza del 95% para el desvío estándar estimado: {lower_bound, upper_bound}\")\n"
   ]
  },
  {
   "cell_type": "code",
   "execution_count": null,
   "metadata": {},
   "outputs": [],
   "source": []
  }
 ],
 "metadata": {
  "kernelspec": {
   "display_name": "Python 3",
   "language": "python",
   "name": "python3"
  },
  "language_info": {
   "codemirror_mode": {
    "name": "ipython",
    "version": 3
   },
   "file_extension": ".py",
   "mimetype": "text/x-python",
   "name": "python",
   "nbconvert_exporter": "python",
   "pygments_lexer": "ipython3",
   "version": "3.12.1"
  }
 },
 "nbformat": 4,
 "nbformat_minor": 2
}
