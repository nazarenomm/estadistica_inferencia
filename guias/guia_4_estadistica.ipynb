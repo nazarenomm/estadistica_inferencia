{
 "cells": [
  {
   "cell_type": "markdown",
   "metadata": {},
   "source": [
    "# Bootstrap"
   ]
  },
  {
   "cell_type": "markdown",
   "metadata": {},
   "source": [
    "## 1. \n",
    "\n",
    "Generar 30 samples de una distribución Bernoulli de parámetro 𝑝 = 0.3."
   ]
  },
  {
   "cell_type": "code",
   "execution_count": 32,
   "metadata": {},
   "outputs": [],
   "source": [
    "import numpy as np\n",
    "import matplotlib.pyplot as plt\n",
    "\n",
    "p = 0.3\n",
    "\n",
    "samples = np.random.choice([0, 1], size=30, p=[1-p, p])"
   ]
  },
  {
   "cell_type": "markdown",
   "metadata": {},
   "source": [
    "### a) \n",
    "Encontrar el estimador plug-in del desvío estándar 𝜎 de la distribución."
   ]
  },
  {
   "cell_type": "code",
   "execution_count": 33,
   "metadata": {},
   "outputs": [],
   "source": [
    "# el plug-in estimator es simplemente suponer que la distribucion observada es la real\n",
    "\n",
    "# entonces la varianza poblacional = varianza muestral\n",
    "\n",
    "# varianza muestral de una bernoulli\n",
    "\n",
    "sigma_plug_in = np.std(samples) #np.sqrt(p*(1-p))"
   ]
  },
  {
   "cell_type": "code",
   "execution_count": 34,
   "metadata": {},
   "outputs": [
    {
     "data": {
      "text/plain": [
       "0.44221663871405326"
      ]
     },
     "execution_count": 34,
     "metadata": {},
     "output_type": "execute_result"
    }
   ],
   "source": [
    "sigma_plug_in"
   ]
  },
  {
   "cell_type": "markdown",
   "metadata": {},
   "source": [
    "### b) \n",
    "Estimar su error estándar usando bootstrap"
   ]
  },
  {
   "cell_type": "markdown",
   "metadata": {},
   "source": [
    "Función que hice porque estaba al pedo:"
   ]
  },
  {
   "cell_type": "code",
   "execution_count": 35,
   "metadata": {},
   "outputs": [],
   "source": [
    "def bootstrap(samples, N, funcion, histograma = False):\n",
    "    \"\"\"\n",
    "    Realiza el método de bootstrap para estimar el estadístico deseado a partir de una muestra.\n",
    "    Imprime el histograma si histograma == True.\n",
    "\n",
    "    Parámetros:\n",
    "    samples (numpy.ndarray): La muestra de la que se calculará el estadístico mediante bootstrap.\n",
    "    N (int): El número de iteraciones de bootstrap a realizar.\n",
    "    funcion (función de NumPy): La función que calcula el estadístico de interés.\n",
    "    histrograma(bool): Booleano que decide si se imprime el histrograma de distribucion de los valores del estadistico\n",
    "\n",
    "    Retorna:\n",
    "    tuple: Un tuple conteniendo el valor estimado del estadístico y su error estándar.\n",
    "    \"\"\"\n",
    "    import numpy as np\n",
    "    import matplotlib.pyplot as plt\n",
    "    bootstrap_dataset = np.zeros(N)\n",
    "    for i in range(N):\n",
    "        draws = np.random.choice(samples, size= len(samples), replace = True)\n",
    "        bootstrap_dataset[i] = funcion(draws)\n",
    "    if histograma:\n",
    "        plt.hist(bootstrap_dataset)\n",
    "    return np.mean(bootstrap_dataset), np.std(bootstrap_dataset)"
   ]
  },
  {
   "cell_type": "code",
   "execution_count": 36,
   "metadata": {},
   "outputs": [
    {
     "data": {
      "text/plain": [
       "(array([  3.,   0.,   4.,  19.,   0.,  47., 204., 167., 297., 259.]),\n",
       " array([0.17950549, 0.21155494, 0.24360439, 0.27565385, 0.3077033 ,\n",
       "        0.33975275, 0.3718022 , 0.40385165, 0.4359011 , 0.46795055,\n",
       "        0.5       ]),\n",
       " <BarContainer object of 10 artists>)"
      ]
     },
     "execution_count": 36,
     "metadata": {},
     "output_type": "execute_result"
    },
    {
     "data": {
      "image/png": "[encoded data removed]",
      "text/plain": [
       "<Figure size 640x480 with 1 Axes>"
      ]
     },
     "metadata": {},
     "output_type": "display_data"
    }
   ],
   "source": [
    "N = 1000\n",
    "bootstrap_stds = np.zeros(N)\n",
    "for i in range(N):\n",
    "    draws = np.random.choice(samples, size= len(samples), replace=True)\n",
    "    bootstrap_stds[i] = np.std(draws)\n",
    "plt.hist(bootstrap_stds)"
   ]
  },
  {
   "cell_type": "code",
   "execution_count": 37,
   "metadata": {},
   "outputs": [
    {
     "name": "stdout",
     "output_type": "stream",
     "text": [
      "sigma estimado usando bootstrap: 0.4315097852486181\n",
      "error estandar: 0.04714486788638562\n"
     ]
    }
   ],
   "source": [
    "sigma_estimado = np.mean(bootstrap_stds)\n",
    "se_sigma_estimado = np.std(bootstrap_stds)\n",
    "\n",
    "print(f\"sigma estimado usando bootstrap: {sigma_estimado}\")\n",
    "print(f\"error estandar: {se_sigma_estimado}\")"
   ]
  },
  {
   "cell_type": "markdown",
   "metadata": {},
   "source": [
    "### c) \n",
    "Encontrar un intervalo de confianza de nivel 0.95 usando los métodos normal, _percentile\n",
    "bootstrap_, _basic bootstrap_ y _BCa_."
   ]
  },
  {
   "cell_type": "markdown",
   "metadata": {},
   "source": [
    "Creo que esto es _percentile bootstrap_"
   ]
  },
  {
   "cell_type": "code",
   "execution_count": 17,
   "metadata": {},
   "outputs": [
    {
     "name": "stdout",
     "output_type": "stream",
     "text": [
      "Intervalo de confianza del 95% para el desvío estándar estimado: (0.4229525846816506, 0.5)\n"
     ]
    }
   ],
   "source": [
    "lower_bound = np.percentile(bootstrap_stds, 2.5)\n",
    "upper_bound = np.percentile(bootstrap_stds, 97.5)\n",
    "# 97.5 - 2.5 = 95\n",
    "# el intervalo de confianza del 95% será aquel que cubra al 95% de los desvios estandar del histograma anterior\n",
    "\n",
    "print(f\"Intervalo de confianza del 95% para el desvío estándar estimado: {lower_bound, upper_bound}\")\n"
   ]
  },
  {
   "cell_type": "markdown",
   "metadata": {},
   "source": [
    "## 2.\n",
    "Considerar los datasets de los precios anuales de las acciones de The Coca-Cola Company y las búsquedas en Google de “my cat scratched me”"
   ]
  },
  {
   "cell_type": "code",
   "execution_count": 3,
   "metadata": {},
   "outputs": [],
   "source": [
    "array_1 = np.array([8,7.91667,19.8333,18.5833,29.0833,30.3333,35.4167,43.6667,37.25,45.75,47.1667,48.5,67.3333,79.3333,74.6667,85.6667,])\n",
    "array_2 = np.array([30.73,22.7,28.58,32.94,35.08,36.99,41.12,42.26,42.34,41.5,45.91,46.94,55.32,54.27,58.82,63.56,])\n",
    "array_1_name = \"Google searches for 'my cat scratched me'\"\n",
    "array_2_name = \"The Coca-Cola Company's stock price (KO)\""
   ]
  },
  {
   "cell_type": "markdown",
   "metadata": {},
   "source": [
    "### a)\n",
    "Encontrar el estimador plug-in del coeficiente de correlación entre ambos conjuntos de datos"
   ]
  },
  {
   "cell_type": "markdown",
   "metadata": {},
   "source": [
    "Uso el coeficiente de correlacion de Pearson\n",
    "\n",
    "$r_{xy} = \\frac{\\sum_{i=1}^{n}(x_i - \\bar{x})(y_i - \\bar{y})}{\\sqrt{\\sum_{i=1}^{n}(x_i - \\bar{x})^2} \\sqrt{\\sum_{i=1}^{n}(y_i - \\bar{y})^2}}$"
   ]
  },
  {
   "cell_type": "code",
   "execution_count": 8,
   "metadata": {},
   "outputs": [
    {
     "name": "stdout",
     "output_type": "stream",
     "text": [
      "0.9739712296818737\n"
     ]
    }
   ],
   "source": [
    "mean_array_1 = np.mean(array_1)\n",
    "mean_array_2 = np.mean(array_2)\n",
    "covariance = np.mean((array_1 - mean_array_1) * (array_2 - mean_array_2))\n",
    "std_array_1 = np.std(array_1)\n",
    "std_array_2 = np.std(array_2)\n",
    "correlation_coef = covariance / (std_array_1 * std_array_2)\n",
    "\n",
    "print(correlation_coef)"
   ]
  },
  {
   "cell_type": "markdown",
   "metadata": {},
   "source": [
    "Es lo mismo que hacer:"
   ]
  },
  {
   "cell_type": "code",
   "execution_count": 6,
   "metadata": {},
   "outputs": [],
   "source": [
    "from scipy import stats\n",
    "\n",
    "coeficiente_correlacion = stats.pearsonr(array_1, array_2)[0]"
   ]
  },
  {
   "cell_type": "code",
   "execution_count": 38,
   "metadata": {},
   "outputs": [
    {
     "data": {
      "text/plain": [
       "0.9739712296818734"
      ]
     },
     "execution_count": 38,
     "metadata": {},
     "output_type": "execute_result"
    }
   ],
   "source": [
    "np.corrcoef(array_1, array_2)[1,0]"
   ]
  },
  {
   "cell_type": "markdown",
   "metadata": {},
   "source": [
    "### b) \n",
    "Estimar su error estándar usando bootstrap."
   ]
  },
  {
   "cell_type": "code",
   "execution_count": 39,
   "metadata": {},
   "outputs": [
    {
     "name": "stdout",
     "output_type": "stream",
     "text": [
      "error estandar: 0.26047394324808376\n",
      "0.0002763351496924482\n"
     ]
    }
   ],
   "source": [
    "N = 1000\n",
    "bootstrap_r = np.zeros(N)\n",
    "\n",
    "for i in range(N):\n",
    "    draws_1 = np.random.choice(array_1, size= len(array_1), replace=True)\n",
    "    draws_2 = np.random.choice(array_2, size= len(array_2), replace=True)\n",
    "    bootstrap_r[i] = stats.pearsonr(draws_1, draws_2)[0]\n",
    "\n",
    "r_estimado = np.mean(bootstrap_r)\n",
    "se_r_estimado = np.std(bootstrap_r)\n",
    "\n",
    "print(f\"error estandar: {se_r_estimado}\")\n",
    "print(r_estimado)"
   ]
  },
  {
   "cell_type": "markdown",
   "metadata": {},
   "source": [
    "??????????????????????"
   ]
  },
  {
   "cell_type": "code",
   "execution_count": 40,
   "metadata": {},
   "outputs": [
    {
     "data": {
      "text/plain": [
       "(array([ 17.,  54., 116., 188., 216., 180., 131.,  69.,  23.,   6.]),\n",
       " array([-0.6834949 , -0.53554795, -0.38760099, -0.23965403, -0.09170707,\n",
       "         0.05623988,  0.20418684,  0.3521338 ,  0.50008076,  0.64802772,\n",
       "         0.79597467]),\n",
       " <BarContainer object of 10 artists>)"
      ]
     },
     "execution_count": 40,
     "metadata": {},
     "output_type": "execute_result"
    },
    {
     "data": {
      "image/png": "[encoded data removed]",
      "text/plain": [
       "<Figure size 640x480 with 1 Axes>"
      ]
     },
     "metadata": {},
     "output_type": "display_data"
    }
   ],
   "source": [
    "plt.hist(bootstrap_r)"
   ]
  },
  {
   "cell_type": "markdown",
   "metadata": {},
   "source": [
    "# Test de Hipótesis"
   ]
  },
  {
   "cell_type": "markdown",
   "metadata": {},
   "source": [
    "### 4.\n",
    " En 1000 tiradas de moneda aparecen 560 caras y 440 cecas. ¿Es razonable suponer que la moneda es justa, es decir que la probabilidad de cara y de ceca son iguales?"
   ]
  },
  {
   "cell_type": "markdown",
   "metadata": {},
   "source": [
    "$X \\sim Bin(1000, 0.5)$\n",
    "\n",
    "$H_0 : p = 0.5$  \n",
    "$H_1 : p \\neq 0.5$"
   ]
  },
  {
   "cell_type": "code",
   "execution_count": 3,
   "metadata": {},
   "outputs": [
    {
     "name": "stdout",
     "output_type": "stream",
     "text": [
      "Región de NO rechazo: (-1.959963984540054, 1.959963984540054)\n",
      "Z_observado: 3.7947331922020586\n"
     ]
    }
   ],
   "source": [
    "from scipy.stats import norm\n",
    "\n",
    "n = 1000\n",
    "p = 0.5  # moneda justa\n",
    "\n",
    "p_obs = 560/n\n",
    "\n",
    "Z = (p_obs - p) / (np.sqrt((p*(1-p))/n)) # estadistico Z ~ N(0,1) (aprox)\n",
    "\n",
    "alpha = 0.05\n",
    "\n",
    "Z_critico = norm.ppf(1 - alpha / 2) # dos colas, si  hubiera una cola sería alpha\n",
    "\n",
    "print(f\"Región de NO rechazo: {-Z_critico, Z_critico}\")\n",
    "\n",
    "print(f\"Z_observado: {Z}\")\n",
    "\n"
   ]
  },
  {
   "cell_type": "markdown",
   "metadata": {},
   "source": [
    "$Z_{obs}$ está en la Región de rechazo, entonces la moneda no está equilibrada"
   ]
  },
  {
   "attachments": {
    "image.png": {
     "image/png": "[encoded data removed]"
    }
   },
   "cell_type": "markdown",
   "metadata": {},
   "source": [
    "### 5.\n",
    "Se desea determinar si un dado de seis caras está cargado o no. Para ello se arroja el dado\n",
    "1000 veces obteniéndose los siguientes resultados:\n",
    "![image.png](attachment:image.png)  \n",
    "Estamos interesados en testear las hipótesis $𝐻_0$: El dado es equilibrado vs. $H_1$: El dado está cargado.  \n",
    "Para ello consideramos distintos tests:"
   ]
  },
  {
   "cell_type": "markdown",
   "metadata": {},
   "source": [
    "#### a)\n",
    "Sea 𝑋 = cantidad de veces que el resultado del dado es par. Plantear las hipótesis y determinar\n",
    "la región de rechazo para un test de nivel aproximado 𝛼 = 0.05 basado en 𝑋. Para el conjunto\n",
    "de datos obtenido, ¿cuál es el valor 𝑝 aproximado?, ¿cuál es la decisión?\n"
   ]
  },
  {
   "cell_type": "markdown",
   "metadata": {},
   "source": [
    "$X \\sim Bin(1000, 0.5)$"
   ]
  },
  {
   "cell_type": "markdown",
   "metadata": {},
   "source": [
    "\n",
    "$H_0 : p = 0.5$  \n",
    "$H_1 : p \\neq 0.5$"
   ]
  },
  {
   "cell_type": "code",
   "execution_count": 10,
   "metadata": {},
   "outputs": [
    {
     "name": "stdout",
     "output_type": "stream",
     "text": [
      "valor p aproximado: 0.5\n",
      "valor del estadistico de prueba para un test de proporción: 0.0\n",
      "Región de NO rechazo: (-1.959963984540054, 1.959963984540054)\n"
     ]
    }
   ],
   "source": [
    "x = 180 + 170 + 150 #cantidad de vaces que salio par\n",
    "n = 1000\n",
    "alpha = 0.05\n",
    "p = 0.5 # dado justo\n",
    "\n",
    "p_obs = x/n\n",
    "\n",
    "print(f\"valor p aproximado: {p_obs}\")\n",
    "\n",
    "Z = (p_obs - p) / np.sqrt(p*(1-p)/n)\n",
    "\n",
    "print(f\"valor del estadistico de prueba para un test de proporción: {Z}\")\n",
    "\n",
    "Z_critico = norm.ppf(1 - alpha / 2)\n",
    "\n",
    "print(f\"Región de NO rechazo: {-Z_critico, Z_critico}\")"
   ]
  },
  {
   "cell_type": "markdown",
   "metadata": {},
   "source": [
    "$Z_{obs}$ no está en la Región de Rechazo, por lo tanto no rechazo la hipotesis inicial.  \n",
    "No hacía falta hacer tanto, simplemente con ver que $p_{obs} = p$ alcanzaba para suponerlo"
   ]
  },
  {
   "cell_type": "markdown",
   "metadata": {},
   "source": [
    "### b) \n",
    "Sea 𝑌 = cantidad de veces que el resultado del dado es menor o igual que 3. Plantear claramente las hipótesis y determinar la región de rechazo para un test de nivel aproximado\n",
    "𝛼 = 0.05 basado en 𝑌.  \n",
    "Para el conjunto de datos obtenido, ¿cuál es el valor 𝑝 aproximado?,\n",
    "¿cuál es la decisión?\n"
   ]
  },
  {
   "cell_type": "markdown",
   "metadata": {},
   "source": [
    "$Y \\sim Bin(1000, 0.5)$"
   ]
  },
  {
   "cell_type": "markdown",
   "metadata": {},
   "source": [
    "\n",
    "$H_0 : p = 0.5$  \n",
    "$H_1 : p \\neq 0.5$"
   ]
  },
  {
   "cell_type": "code",
   "execution_count": 11,
   "metadata": {},
   "outputs": [
    {
     "name": "stdout",
     "output_type": "stream",
     "text": [
      "valor p aproximado: 0.49\n",
      "valor del estadistico de prueba para un test de proporción: -0.6324555320336764\n",
      "Región de NO rechazo: (-1.959963984540054, 1.959963984540054)\n"
     ]
    }
   ],
   "source": [
    "y = 160 + 180 + 150\n",
    "\n",
    "p_obs = y/n\n",
    "\n",
    "print(f\"valor p aproximado: {p_obs}\")\n",
    "\n",
    "Z = (p_obs - p) / np.sqrt(p*(1-p)/n)\n",
    "\n",
    "print(f\"valor del estadistico de prueba para un test de proporción: {Z}\")\n",
    "\n",
    "Z_critico = norm.ppf(1 - alpha / 2)\n",
    "\n",
    "print(f\"Región de NO rechazo: {-Z_critico, Z_critico}\")"
   ]
  },
  {
   "cell_type": "markdown",
   "metadata": {},
   "source": [
    "$Z_{obs}$ no está en la Región de Rechazo, por lo tanto no rechazo la hipotesis inicial."
   ]
  }
 ],
 "metadata": {
  "kernelspec": {
   "display_name": "Python 3",
   "language": "python",
   "name": "python3"
  },
  "language_info": {
   "codemirror_mode": {
    "name": "ipython",
    "version": 3
   },
   "file_extension": ".py",
   "mimetype": "text/x-python",
   "name": "python",
   "nbconvert_exporter": "python",
   "pygments_lexer": "ipython3",
   "version": "3.12.1"
  }
 },
 "nbformat": 4,
 "nbformat_minor": 2
}
