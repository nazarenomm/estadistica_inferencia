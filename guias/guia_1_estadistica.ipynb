{
 "cells": [
  {
   "cell_type": "code",
   "execution_count": 2,
   "metadata": {},
   "outputs": [],
   "source": [
    "import numpy as np"
   ]
  },
  {
   "cell_type": "markdown",
   "metadata": {},
   "source": [
    "### 3.\n",
    "La nota de una prueba de aptitud sigue una distribución normal. Una muestra aleatoria de\n",
    "nueve alumnos de la ciudad arroja los siguientes resultados: 5, 8.1, 7.9, 3.3, 4.5, 6.2, 6.9, 7.5, 9.1.\n"
   ]
  },
  {
   "cell_type": "code",
   "execution_count": 8,
   "metadata": {},
   "outputs": [],
   "source": [
    "X = np.array([5, 8.1, 7.9, 3.3, 4.5, 6.2, 6.9, 7.5, 9.1])"
   ]
  },
  {
   "cell_type": "markdown",
   "metadata": {},
   "source": [
    "#### a)\n",
    " Hallar un intervalo de confianza para la nota media de los alumnos de la ciudad."
   ]
  },
  {
   "cell_type": "code",
   "execution_count": 9,
   "metadata": {},
   "outputs": [
    {
     "data": {
      "text/plain": [
       "6.5"
      ]
     },
     "execution_count": 9,
     "metadata": {},
     "output_type": "execute_result"
    }
   ],
   "source": [
    "mu_hat = np.mean(X)\n",
    "mu_hat"
   ]
  },
  {
   "cell_type": "markdown",
   "metadata": {},
   "source": [
    "Para una distribución Normal con $\\sigma^2$ desconocida:  \n",
    "\n",
    "$IC_{1 - \\alpha}(\\mu) = \\overline{X} \\pm t_{n-1, 1-\\frac{\\alpha}{2}} * \\frac{S}{\\sqrt{n}}$ "
   ]
  },
  {
   "cell_type": "code",
   "execution_count": 23,
   "metadata": {},
   "outputs": [
    {
     "name": "stdout",
     "output_type": "stream",
     "text": [
      "(5.035995075551149, 7.964004924448851)\n"
     ]
    }
   ],
   "source": [
    "from scipy.stats import t # t de student\n",
    "\n",
    "alpha = 0.05\n",
    "grados_libertad = len(X) - 1\n",
    "\n",
    "t_critico = t.ppf(1 - alpha/2, grados_libertad)\n",
    "\n",
    "S = np.std(X, ddof= 1) #ddof=1: desvio estandar muestral\n",
    "\n",
    "margen = t_critico * S/(np.sqrt(len(X)))\n",
    "\n",
    "intervalo_confianza = (mu_hat - margen, mu_hat + margen)\n",
    "print(intervalo_confianza)"
   ]
  },
  {
   "cell_type": "markdown",
   "metadata": {},
   "source": [
    "### 4.\n",
    "Sean $X_1,.....,X_n$ vaiid distribuidas como una Bernoulli $p$ para cierto $𝑝 \\in (0, 1)$ y $𝑛 \\in N$. Fijado $\\alpha > 0$, definimos\n",
    "\n",
    "$\\hat{p} = \\frac{1}{n - 1}\\sum_{i=1}^{n-1} X_i$  \n",
    "\n",
    "${\\epsilon} = (\\frac{1}{2n}\\log(\\frac{2}{\\alpha}))^\\frac{1}{2}$\n",
    "\n",
    "y, finalmente, $C_n = (\\hat{p} - {\\epsilon}, \\hat{p} + {\\epsilon})$"
   ]
  },
  {
   "cell_type": "markdown",
   "metadata": {},
   "source": [
    "#### a) \n",
    "Sean $\\alpha = 0.05$ y $p = 0.4$. Simular en la computadora para ver con qué frecuencia el intervalo\n",
    "$C_n$ contiene a $p$. Hacer esto para varios valores de $n$ entre 1 y 10000. Graficar la cobertura,\n",
    "es decir la proporción de veces que el intervalo contiene a $p$, versus $n$"
   ]
  },
  {
   "cell_type": "markdown",
   "metadata": {},
   "source": [
    "#### a) \n",
    "Sean $\\alpha = 0.05$ y $p = 0.4$. Simular en la computadora para ver con qué frecuencia el intervalo\n",
    "$C_n$ contiene a $p$. Hacer esto para varios valores de $n$ entre 1 y 10000. Graficar la cobertura,\n",
    "es decir la proporción de veces que el intervalo contiene a $p$, versus $n$"
   ]
  },
  {
   "cell_type": "code",
   "execution_count": 25,
   "metadata": {},
   "outputs": [
    {
     "ename": "KeyboardInterrupt",
     "evalue": "",
     "output_type": "error",
     "traceback": [
      "\u001b[1;31m---------------------------------------------------------------------------\u001b[0m",
      "\u001b[1;31mKeyboardInterrupt\u001b[0m                         Traceback (most recent call last)",
      "Cell \u001b[1;32mIn[25], line 28\u001b[0m\n\u001b[0;32m     26\u001b[0m p_contenidos \u001b[38;5;241m=\u001b[39m \u001b[38;5;241m0\u001b[39m\n\u001b[0;32m     27\u001b[0m \u001b[38;5;28;01mfor\u001b[39;00m _ \u001b[38;5;129;01min\u001b[39;00m \u001b[38;5;28mrange\u001b[39m(num_simulations):\n\u001b[1;32m---> 28\u001b[0m     sample \u001b[38;5;241m=\u001b[39m \u001b[43mnp\u001b[49m\u001b[38;5;241;43m.\u001b[39;49m\u001b[43mrandom\u001b[49m\u001b[38;5;241;43m.\u001b[39;49m\u001b[43mbinomial\u001b[49m\u001b[43m(\u001b[49m\u001b[38;5;241;43m1\u001b[39;49m\u001b[43m,\u001b[49m\u001b[43m \u001b[49m\u001b[43mp\u001b[49m\u001b[43m,\u001b[49m\u001b[43m \u001b[49m\u001b[43mn\u001b[49m\u001b[43m)\u001b[49m\n\u001b[0;32m     29\u001b[0m     lower_bound, upper_bound \u001b[38;5;241m=\u001b[39m calculate_interval(sample, alpha)\n\u001b[0;32m     30\u001b[0m     \u001b[38;5;28;01mif\u001b[39;00m check_coverage(lower_bound, upper_bound, p):\n",
      "\u001b[1;31mKeyboardInterrupt\u001b[0m: "
     ]
    }
   ],
   "source": [
    "import numpy as np\n",
    "import matplotlib.pyplot as plt\n",
    "\n",
    "# Parámetros\n",
    "alpha = 0.05\n",
    "p = 0.4\n",
    "num_simulations = 1000\n",
    "n_values = np.arange(1, 10001)\n",
    "\n",
    "# Función para calcular el intervalo Cn\n",
    "def calculate_interval(sample, alpha):\n",
    "    n = len(sample)\n",
    "    p_hat = np.mean(sample[:-1])\n",
    "    epsilon = np.sqrt((1 / (2 * n)) * np.log(2 / alpha))\n",
    "    lower_bound = p_hat - epsilon\n",
    "    upper_bound = p_hat + epsilon\n",
    "    return lower_bound, upper_bound\n",
    "\n",
    "# Función para verificar si p está contenido en el intervalo\n",
    "def check_coverage(lower_bound, upper_bound, p):\n",
    "    return lower_bound <= p <= upper_bound\n",
    "\n",
    "# Simulación\n",
    "cobertura = []\n",
    "for n in n_values:\n",
    "    p_contenidos = 0\n",
    "    for _ in range(num_simulations):\n",
    "        sample = np.random.binomial(1, p, n)\n",
    "        lower_bound, upper_bound = calculate_interval(sample, alpha)\n",
    "        if check_coverage(lower_bound, upper_bound, p):\n",
    "            p_contenidos += 1\n",
    "    cobertura.append(p_contenidos / num_simulations)\n",
    "\n",
    "# Graficar la cobertura versus n\n",
    "plt.plot(n_values, cobertura)\n",
    "plt.xlabel('n')\n",
    "plt.ylabel('Cobertura')\n",
    "plt.title('Cobertura del intervalo C_n para p = 0.4')\n",
    "plt.grid(True)\n",
    "plt.show()"
   ]
  },
  {
   "cell_type": "markdown",
   "metadata": {},
   "source": [
    "### 6.\n",
    "Con cierto instrumento se realizan 20 mediciones de una magnitud física $\\mu$. Cada observación es de la forma $X = \\mu + \\epsilon$, donde $\\epsilon$ es el error de medición (aleatorio).   \n",
    "Se obtienen los siguientes datos:  \n",
    "\n",
    "25.11, 25.02, 25.16, 24.98, 24.83, 25.05, 24.94, 25.04, 24.99, 24.96, 25.03, 24.97, 24.93, 25.12, 25.01, 25.12, 24.90, 24.98, 25.10, 24.96  \n",
    "\n",
    "Suponiendo que los errores de medición tienen distribución normal con media cero y varianza 0.01, estimar $\\mu$. ¿Cuál es la varianza del estimador de $\\mu$?"
   ]
  },
  {
   "cell_type": "markdown",
   "metadata": {},
   "source": [
    "$X_i = \\mu + \\epsilon_i$, donde $\\epsilon_i \\sim N(0, 0.01)$."
   ]
  },
  {
   "cell_type": "code",
   "execution_count": 28,
   "metadata": {},
   "outputs": [],
   "source": [
    "X = np.array([25.11, 25.02, 25.16, 24.98, 24.83, 25.05, 24.94, 25.04, 24.99, 24.96, 25.03, 24.97, 24.93, 25.12, 25.01, 25.12, 24.90, 24.98, 25.10, 24.96])"
   ]
  }
 ],
 "metadata": {
  "kernelspec": {
   "display_name": "Python 3",
   "language": "python",
   "name": "python3"
  },
  "language_info": {
   "codemirror_mode": {
    "name": "ipython",
    "version": 3
   },
   "file_extension": ".py",
   "mimetype": "text/x-python",
   "name": "python",
   "nbconvert_exporter": "python",
   "pygments_lexer": "ipython3",
   "version": "3.12.1"
  }
 },
 "nbformat": 4,
 "nbformat_minor": 2
}
